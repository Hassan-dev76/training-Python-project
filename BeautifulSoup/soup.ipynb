{
 "cells": [
  {
   "cell_type": "markdown",
   "metadata": {},
   "source": [
    "## Making a Soup\n",
    "### Explanation:\n",
    "- BeautifulSoup(html_content, 'html.parser') takes the HTML content and parses it into a structured format that we can easily search and manipulate.\n",
    "- soup.prettify() is used to output the HTML in a more readable (pretty-printed) format."
   ]
  },
  {
   "cell_type": "code",
   "execution_count": 5,
   "metadata": {},
   "outputs": [
    {
     "name": "stdout",
     "output_type": "stream",
     "text": [
      "<html>\n",
      " <body>\n",
      "  <p>\n",
      "   Data\n",
      "  </p>\n",
      " </body>\n",
      "</html>\n",
      "\n"
     ]
    }
   ],
   "source": [
    "from bs4 import BeautifulSoup\n",
    "\n",
    "\n",
    "with open(\"index.html\") as fp:\n",
    "    soup = BeautifulSoup(fp, features=\"lxml\")\n",
    "\n",
    "soup = BeautifulSoup(\"<html>Data</html>\")\n",
    "\n",
    "print(soup.prettify())"
   ]
  },
  {
   "cell_type": "code",
   "execution_count": 13,
   "metadata": {},
   "outputs": [
    {
     "name": "stdout",
     "output_type": "stream",
     "text": [
      "<html>\n",
      " <body>\n",
      "  <h1>\n",
      "   Welcome to BeautifulSoup\n",
      "  </h1>\n",
      "  <p>\n",
      "   This is a sample HTML page.\n",
      "  </p>\n",
      " </body>\n",
      "</html>\n",
      "\n"
     ]
    }
   ],
   "source": [
    "from bs4 import BeautifulSoup\n",
    "\n",
    "html_content = \"\"\"<html>\n",
    "    <body>\n",
    "        <h1>Welcome to BeautifulSoup</h1>\n",
    "        <p>This is a sample HTML page.</p>\n",
    "    </body>\n",
    "</html>\"\"\"\n",
    "\n",
    "# parse the HTML using 'html.parser' as the parser\n",
    "soup = BeautifulSoup(html_content, 'html.parser')\n",
    "\n",
    "print(soup.prettify())"
   ]
  },
  {
   "cell_type": "markdown",
   "metadata": {},
   "source": [
    "### Kinds of objects\n",
    "Beautiful Soup transforms a complex HTML document into a complex tree of Python objects. But you’ll only ever have to deal with about four kinds of objects: \n",
    "\n",
    "- Tag: A tag object corresponds to an HTML tag (e.g., a, h1, p, etc.).\n",
    "- NavigableString:  A string inside a tag, such as the text between the opening and closing tags.\n",
    "- BeautifulSoup: This represents the whole document, and is the main object we’ll work with.\n",
    "- Comment."
   ]
  },
  {
   "cell_type": "code",
   "execution_count": 15,
   "metadata": {},
   "outputs": [
    {
     "name": "stdout",
     "output_type": "stream",
     "text": [
      "Tag: <h1>Welcome to BeautifulSoup</h1>\n",
      "String inside h1: Welcome to BeautifulSoup\n"
     ]
    }
   ],
   "source": [
    "# Accessing a tag\n",
    "\n",
    "h1_tag = soup.h1\n",
    "\n",
    "print(f\"Tag: {h1_tag}\")\n",
    "\n",
    "# accessing the string inside the tag\n",
    "h1_string = h1_tag.string\n",
    "print(f\"String inside h1: {h1_string}\")\n"
   ]
  },
  {
   "cell_type": "markdown",
   "metadata": {},
   "source": [
    "#### Tags"
   ]
  },
  {
   "cell_type": "code",
   "execution_count": 6,
   "metadata": {},
   "outputs": [
    {
     "data": {
      "text/plain": [
       "bs4.element.Tag"
      ]
     },
     "execution_count": 6,
     "metadata": {},
     "output_type": "execute_result"
    }
   ],
   "source": [
    "soup = BeautifulSoup('<b class=\"boldest\">Extremely bold</b>')\n",
    "tag = soup.b\n",
    "type(tag)\n"
   ]
  },
  {
   "cell_type": "code",
   "execution_count": 7,
   "metadata": {},
   "outputs": [
    {
     "name": "stdout",
     "output_type": "stream",
     "text": [
      "<html>\n",
      "<head><title>401 Authorization Required</title></head>\n",
      "<body>\n",
      "<center><h1>401 Authorization Required</h1></center>\n",
      "<hr><center>openresty</center>\n",
      "</body>\n",
      "</html>\n",
      "\n"
     ]
    }
   ],
   "source": [
    "import requests\n",
    "from bs4 import BeautifulSoup\n",
    "\n",
    "url = \"https://courses.wscubetech.com/\"\n",
    "r = requests.get(url)\n",
    "print(r.text)"
   ]
  },
  {
   "cell_type": "code",
   "execution_count": 8,
   "metadata": {},
   "outputs": [
    {
     "data": {
      "text/plain": [
       "'b'"
      ]
     },
     "execution_count": 8,
     "metadata": {},
     "output_type": "execute_result"
    }
   ],
   "source": [
    "# name tag\n",
    "\n",
    "tag.name"
   ]
  },
  {
   "cell_type": "code",
   "execution_count": 22,
   "metadata": {},
   "outputs": [
    {
     "data": {
      "text/plain": [
       "<blockquote class=\"boldest\">Extremely bold</blockquote>"
      ]
     },
     "execution_count": 22,
     "metadata": {},
     "output_type": "execute_result"
    }
   ],
   "source": [
    "# change tag name \n",
    "tag.name = \"blockquote\"\n",
    "tag"
   ]
  },
  {
   "cell_type": "markdown",
   "metadata": {},
   "source": [
    "#### Attributes\n",
    "A tag may have any number of attributes. The tag <b id=\"boldest\"> has an attribute “id” whose value is “boldest”. You can access a tag’s attributes by treating the tag like a dictionary:"
   ]
  },
  {
   "cell_type": "code",
   "execution_count": 25,
   "metadata": {},
   "outputs": [
    {
     "name": "stdout",
     "output_type": "stream",
     "text": [
      "None\n"
     ]
    }
   ],
   "source": [
    "# You can add, remove, and modify a tag’s attributes. Again, this is done by treating the tag as a dictionary:\n",
    "\n",
    "# Add tag attributes\n",
    "tag['id'] = 'verybold'\n",
    "tag['another-attribute'] = 1\n",
    "tag\n",
    "\n",
    "\n",
    "# Delete tag attributes\n",
    "del tag['id']\n",
    "del tag['another-attribute']\n",
    "tag\n",
    "\n",
    "# chnaging tag name from <blockquote> to <b>\n",
    "# tag.name = \"b\"\n",
    "# tag\n",
    "\n",
    "# after deleting attribute id get keyError\n",
    "# tag['id']\n",
    "\n",
    "# this give none because we don't have id \n",
    "print(tag.get('id'))\n"
   ]
  },
  {
   "cell_type": "markdown",
   "metadata": {},
   "source": [
    "#### Multi-valued attributes\n"
   ]
  },
  {
   "cell_type": "code",
   "execution_count": 26,
   "metadata": {},
   "outputs": [
    {
     "data": {
      "text/plain": [
       "['body', 'strikeout']"
      ]
     },
     "execution_count": 26,
     "metadata": {},
     "output_type": "execute_result"
    }
   ],
   "source": [
    "css_soup = BeautifulSoup('<p class=\"body\"></p>')\n",
    "css_soup.p['class']\n",
    "# [\"body\"]\n",
    "\n",
    "css_soup = BeautifulSoup('<p class=\"body strikeout\"></p>')\n",
    "css_soup.p['class']\n",
    "# [\"body\", \"strikeout\"]\n",
    "\n",
    "\n",
    "# "
   ]
  },
  {
   "cell_type": "code",
   "execution_count": 31,
   "metadata": {},
   "outputs": [
    {
     "name": "stdout",
     "output_type": "stream",
     "text": [
      "<body>\n",
      "<h1 class=\"header new-header\">Welcome to My First Webpage!</h1>\n",
      "<p>This is a paragraph.</p>\n",
      "<a href=\"https://amazon.com\">Click Here</a>\n",
      "<script src=\"script.js\"></script>\n",
      "</body>\n"
     ]
    }
   ],
   "source": [
    "# changing the name or adding extra name \n",
    "\n",
    "# rel_soup = BeautifulSoup('<p>Back to the <a rel=\"index\">homepage</a></p>')\n",
    "# rel_soup.a['rel']\n",
    "# # ['index']\n",
    "# rel_soup.a['rel'] = ['index', 'contents']\n",
    "# print(rel_soup.p)\n",
    "# <p>Back to the <a rel=\"index contents\">homepage</a></p>\n",
    "\n",
    "\n",
    "\n",
    "# chnaging in html file\n",
    "\n",
    "with open(\"index.html\", 'r') as file:\n",
    "\n",
    "    class_name = BeautifulSoup(file)\n",
    "    class_name.h1['class']\n",
    "    class_name.h1['class'] = ['header', 'new-header']\n",
    "    print(class_name.body)\n",
    "\n",
    "\n",
    "\n"
   ]
  },
  {
   "cell_type": "markdown",
   "metadata": {},
   "source": [
    "#### NavigableString\n",
    "NavigableString ek class hai jo Beautiful Soup library mein istemal hoti hai. Ye class HTML ya XML document ke andar text ko represent karti hai. Jab aap kisi tag se text nikaalte hain, to wo NavigableString ke taur par hota hai."
   ]
  },
  {
   "cell_type": "code",
   "execution_count": 32,
   "metadata": {},
   "outputs": [
    {
     "name": "stdout",
     "output_type": "stream",
     "text": [
      "Extremely bold\n",
      "<class 'bs4.element.NavigableString'>\n"
     ]
    }
   ],
   "source": [
    "from bs4 import BeautifulSoup\n",
    "\n",
    "html = \"<blockquote>Extremely bold</blockquote>\"\n",
    "soup = BeautifulSoup(html, \"html.parser\")\n",
    "\n",
    "tag = soup.blockquote  # Yeh tag ko le raha hai\n",
    "text = tag.string       # Yeh text ko le raha hai\n",
    "print(text)            # Output: Extremely bold\n",
    "print(type(text))     # Output: <class 'bs4.element.NavigableString'>\n"
   ]
  },
  {
   "cell_type": "code",
   "execution_count": 34,
   "metadata": {},
   "outputs": [
    {
     "name": "stdout",
     "output_type": "stream",
     "text": [
      "Extremely bold\n",
      "<class 'str'>\n"
     ]
    }
   ],
   "source": [
    "# Convert NavigableString into simple python (Uncode String)\n",
    "# we use str() to convert the string\n",
    "\n",
    "unicode_string = str(tag.string)  # Isse Unicode string milti hai\n",
    "print(unicode_string)              # Output: Extremely bold\n",
    "print(type(unicode_string))        # Output: <class 'str'>\n"
   ]
  },
  {
   "cell_type": "code",
   "execution_count": 35,
   "metadata": {},
   "outputs": [
    {
     "name": "stdout",
     "output_type": "stream",
     "text": [
      "<blockquote>No longer bold</blockquote>\n"
     ]
    }
   ],
   "source": [
    "# If we want to replace string then we use replace_with() method\n",
    "\n",
    "tag.string.replace_with(\"No longer bold\")  # Isse text replace ho jayega\n",
    "print(tag)                                  # Output: <blockquote>No longer bold</blockquote>\n"
   ]
  },
  {
   "cell_type": "markdown",
   "metadata": {},
   "source": [
    "#### BeautifulSoup Object: \n",
    "BeautifulSoup object poore document ko represent karta hai. Iska istemal karke aap tags ko dhoond sakte hain aur unhein modify bhi kar sakte hain.\n"
   ]
  },
  {
   "cell_type": "code",
   "execution_count": 36,
   "metadata": {},
   "outputs": [
    {
     "name": "stdout",
     "output_type": "stream",
     "text": [
      "<?xml version=\"1.0\" encoding=\"utf-8\"?>\n",
      "<document><content/><footer>Here's the footer</footer></document>\n"
     ]
    },
    {
     "name": "stderr",
     "output_type": "stream",
     "text": [
      "C:\\Users\\Saad Nauman\\AppData\\Local\\Temp\\ipykernel_14040\\2172332829.py:5: DeprecationWarning: The 'text' argument to find()-type methods is deprecated. Use 'string' instead.\n",
      "  doc.find(text=\"INSERT FOOTER HERE\").replace_with(footer)\n"
     ]
    }
   ],
   "source": [
    "doc = BeautifulSoup(\"<document><content/>INSERT FOOTER HERE</document>\", \"xml\")\n",
    "footer = BeautifulSoup(\"<footer>Here's the footer</footer>\", \"xml\")\n",
    "\n",
    "# Footer ko replace karna\n",
    "doc.find(text=\"INSERT FOOTER HERE\").replace_with(footer)\n",
    "print(doc)  # Output: <document><content/><footer>Here's the footer</footer></document>\n"
   ]
  },
  {
   "cell_type": "markdown",
   "metadata": {},
   "source": [
    "#### Comment \n",
    "Comments represents by using class"
   ]
  },
  {
   "cell_type": "code",
   "execution_count": 37,
   "metadata": {},
   "outputs": [
    {
     "name": "stdout",
     "output_type": "stream",
     "text": [
      "Hey, buddy. Want to buy a used parser?\n"
     ]
    }
   ],
   "source": [
    "markup = \"<b><!--Hey, buddy. Want to buy a used parser?--></b>\"\n",
    "soup = BeautifulSoup(markup)\n",
    "comment = soup.b.string  # Yeh comment ko le raha hai\n",
    "print(comment)            # Output: Hey, buddy. Want to buy a used parser?\n"
   ]
  },
  {
   "cell_type": "markdown",
   "metadata": {},
   "source": [
    "##  Navigating the Tree\n",
    "One of the powerful features of BeautifulSoup is the ability to navigate the parse tree and access different elements."
   ]
  },
  {
   "cell_type": "markdown",
   "metadata": {},
   "source": [
    "#### Going Down the Tree"
   ]
  },
  {
   "cell_type": "code",
   "execution_count": 44,
   "metadata": {},
   "outputs": [
    {
     "name": "stdout",
     "output_type": "stream",
     "text": [
      "Children of <body> are:  ['\\n', <h1 class=\"header\">Welcome to My First Webpage!</h1>, '\\n', <p>This is a paragraph.</p>, '\\n', <a href=\"https://amazon.com\">Click Here</a>, '\\n', <script src=\"script.js\"></script>, '\\n']\n"
     ]
    }
   ],
   "source": [
    "# Example to accessing Children of the <body> tag\n",
    "import csv\n",
    "\n",
    "\n",
    "with open(\"index.html\", 'r') as test_tree_file:\n",
    "    access_child = BeautifulSoup(test_tree_file)\n",
    "    # access_child.h1['class']\n",
    "    body_tag = access_child.body\n",
    "    print(\"Children of <body> are: \", list(body_tag.children))"
   ]
  },
  {
   "cell_type": "markdown",
   "metadata": {},
   "source": [
    "#### Going up the Tree"
   ]
  },
  {
   "cell_type": "code",
   "execution_count": 47,
   "metadata": {},
   "outputs": [
    {
     "name": "stdout",
     "output_type": "stream",
     "text": [
      "<div>\n",
      "<h2 class=\"header2\">This is h2 Tag</h2>\n",
      "</div>\n"
     ]
    }
   ],
   "source": [
    "# To go up the tree and access the parent Element\n",
    "\n",
    "with open(\"index.html\", 'r') as up_tree_file:\n",
    "    access_child = BeautifulSoup(up_tree_file)\n",
    "    h2_parent = access_child.h2\n",
    "    print(h2_parent.parent)"
   ]
  },
  {
   "cell_type": "markdown",
   "metadata": {},
   "source": [
    "### Going Side Way\n",
    "To navigate to siblings (elements that are at the same level):\n",
    "\n",
    "- next_sibling: Access the next sibling element.\n",
    "- previous_sibling: Access the previous sibling element."
   ]
  },
  {
   "cell_type": "code",
   "execution_count": 53,
   "metadata": {},
   "outputs": [
    {
     "name": "stdout",
     "output_type": "stream",
     "text": [
      "Next sibling: None\n"
     ]
    }
   ],
   "source": [
    "# find the next sibling\n",
    "\n",
    "h1_tag = access_child.h1\n",
    "\n",
    "p_tag = h1_tag.find_next_sibling('p')\n",
    "\n",
    "\n",
    "# p_tag = h1_tag.find_next_sibling('p')\n",
    "print(f\"Next sibling: {p_tag}\")"
   ]
  },
  {
   "cell_type": "markdown",
   "metadata": {},
   "source": [
    "#### Going Back and Forth\n",
    "- next_element: Access the next element in the parse tree.\n",
    "- previous_element: Access the previous element in the parse tree."
   ]
  },
  {
   "cell_type": "code",
   "execution_count": 54,
   "metadata": {},
   "outputs": [
    {
     "ename": "TypeError",
     "evalue": "'NoneType' object is not callable",
     "output_type": "error",
     "traceback": [
      "\u001b[1;31m---------------------------------------------------------------------------\u001b[0m",
      "\u001b[1;31mTypeError\u001b[0m                                 Traceback (most recent call last)",
      "Cell \u001b[1;32mIn[54], line 1\u001b[0m\n\u001b[1;32m----> 1\u001b[0m next_element \u001b[38;5;241m=\u001b[39m \u001b[43mh1_tag\u001b[49m\u001b[38;5;241;43m.\u001b[39;49m\u001b[43mfind_next_element\u001b[49m\u001b[43m(\u001b[49m\u001b[43m)\u001b[49m\n\u001b[0;32m      2\u001b[0m \u001b[38;5;28mprint\u001b[39m(\u001b[38;5;124mf\u001b[39m\u001b[38;5;124m\"\u001b[39m\u001b[38;5;124mNext element: \u001b[39m\u001b[38;5;132;01m{\u001b[39;00mnext_element\u001b[38;5;132;01m}\u001b[39;00m\u001b[38;5;124m\"\u001b[39m)\n",
      "\u001b[1;31mTypeError\u001b[0m: 'NoneType' object is not callable"
     ]
    }
   ],
   "source": [
    "next_element = h1_tag.find_next_element()\n",
    "print(f\"Next element: {next_element}\")"
   ]
  },
  {
   "cell_type": "markdown",
   "metadata": {},
   "source": [
    "## Searching the Tree\n",
    "Searching for tags and content in BeautifulSoup is powerful and flexible. You can search using various filters:\n",
    "\n",
    "find() and find_all() Methods\n",
    "- find(): Returns the first match of a tag.\n",
    "- find_all(): Returns all matches of a tag."
   ]
  },
  {
   "cell_type": "code",
   "execution_count": 59,
   "metadata": {},
   "outputs": [
    {
     "name": "stdout",
     "output_type": "stream",
     "text": [
      "<p>This is a paragraph.</p>\n",
      "[<p>This is a paragraph.</p>]\n"
     ]
    }
   ],
   "source": [
    "# Finding the first <p> tag\n",
    "p_tag = access_child.find('p')\n",
    "print(p_tag)\n",
    "\n",
    "# Finding all <p> tags\n",
    "p_tags = access_child.find_all('p')\n",
    "print(p_tags)\n"
   ]
  }
 ],
 "metadata": {
  "kernelspec": {
   "display_name": "Python 3",
   "language": "python",
   "name": "python3"
  },
  "language_info": {
   "codemirror_mode": {
    "name": "ipython",
    "version": 3
   },
   "file_extension": ".py",
   "mimetype": "text/x-python",
   "name": "python",
   "nbconvert_exporter": "python",
   "pygments_lexer": "ipython3",
   "version": "3.10.11"
  }
 },
 "nbformat": 4,
 "nbformat_minor": 2
}
