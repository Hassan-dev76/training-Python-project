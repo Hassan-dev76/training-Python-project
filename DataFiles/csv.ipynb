{
 "cells": [
  {
   "cell_type": "markdown",
   "metadata": {},
   "source": [
    "### Reading CSV Files\n",
    "- We use csv.reader()"
   ]
  },
  {
   "cell_type": "code",
   "execution_count": 15,
   "metadata": {},
   "outputs": [
    {
     "name": "stdout",
     "output_type": "stream",
     "text": [
      "['1', 'John', 'Doe', '20', 'Male', 'Computer Science', '3.5']\n",
      "['2', 'Jane', 'Smith', '22', 'Female', 'Biology', '3.8']\n",
      "['3', 'Bob', 'Brown', '19', 'Male', 'Mathematics', '3.2']\n",
      "['4', 'Alice', 'Jones', '21', 'Female', 'Chemistry', '3.6']\n",
      "['5', 'Mike', 'Davis', '23', 'Male', 'Physics', '2.9']\n",
      "['6', 'Susan', 'Williams', '20', 'Female', 'Literature', '3.7']\n",
      "['7', 'Tony', 'Miller', '22', 'Male', 'History', '3.0']\n",
      "['8', 'Linda', 'GarcÃ\\xada', '21', 'Female', 'Psychology', '3.9']\n",
      "['9', 'Kate', 'Rivera', '19', 'Female', 'Business', '3.4']\n",
      "['10', 'Luke', 'Hernandez', '24', 'Male', 'Economics', '2.8']\n",
      "['11', 'Hassan', 'Saeed', '22', 'Male', 'Python Developer', '3.2']\n",
      "['12', 'Noman', 'Zaheer', '25', 'Male', 'Web Developer', '2.9']\n",
      "['13', 'Rehman', 'Ali', '20', 'Male', 'Software Developer', '3.4']\n",
      "[]\n"
     ]
    }
   ],
   "source": [
    "import csv\n",
    "\n",
    "with open('data.csv', 'r') as file:\n",
    "    csv_read = csv.reader(file)\n",
    "    header = next(csv_read) # user for skip header row\n",
    "    for row in csv_read:\n",
    "        print(row)    # each row is a list of value"
   ]
  },
  {
   "cell_type": "code",
   "execution_count": 16,
   "metadata": {},
   "outputs": [
    {
     "name": "stdout",
     "output_type": "stream",
     "text": [
      "['StudentID', 'FirstName', 'LastName', 'Age', 'Gender', 'Major', 'GPA']\n",
      "['1', 'John', 'Doe', '20', 'Male', 'Computer Science', '3.5']\n",
      "['2', 'Jane', 'Smith', '22', 'Female', 'Biology', '3.8']\n",
      "['3', 'Bob', 'Brown', '19', 'Male', 'Mathematics', '3.2']\n",
      "['4', 'Alice', 'Jones', '21', 'Female', 'Chemistry', '3.6']\n",
      "['5', 'Mike', 'Davis', '23', 'Male', 'Physics', '2.9']\n",
      "['6', 'Susan', 'Williams', '20', 'Female', 'Literature', '3.7']\n",
      "['7', 'Tony', 'Miller', '22', 'Male', 'History', '3.0']\n",
      "['8', 'Linda', 'GarcÃ\\xada', '21', 'Female', 'Psychology', '3.9']\n",
      "['9', 'Kate', 'Rivera', '19', 'Female', 'Business', '3.4']\n",
      "['10', 'Luke', 'Hernandez', '24', 'Male', 'Economics', '2.8']\n",
      "['11', 'Hassan', 'Saeed', '22', 'Male', 'Python Developer', '3.2']\n",
      "['12', 'Noman', 'Zaheer', '25', 'Male', 'Web Developer', '2.9']\n",
      "['13', 'Rehman', 'Ali', '20', 'Male', 'Software Developer', '3.4']\n",
      "[]\n"
     ]
    }
   ],
   "source": [
    "import csv \n",
    "with open(\"data.csv\", mode = 'r') as f:\n",
    "    csv_read = csv.reader(f)\n",
    "\n",
    "    all_rows = list(csv_read)\n",
    "    # print(all_rows)\n",
    "    \n",
    "    \n",
    "    \n",
    "    # skip lines using loop\n",
    "    \n",
    "    # for row in all_rows[:-3]:\n",
    "    #     print(row)\n",
    "\n",
    "\n",
    "    for row in all_rows:\n",
    "        print(row)\n"
   ]
  },
  {
   "cell_type": "code",
   "execution_count": 17,
   "metadata": {},
   "outputs": [
    {
     "name": "stdout",
     "output_type": "stream",
     "text": [
      "['StudentID', 'FirstName', 'LastName', 'Age', 'Gender', 'Major', 'GPA']\n",
      "['1', 'John', 'Doe', '20', 'Male', 'Computer Science', '3.5']\n",
      "['2', 'Jane', 'Smith', '22', 'Female', 'Biology', '3.8']\n",
      "['3', 'Bob', 'Brown', '19', 'Male', 'Mathematics', '3.2']\n",
      "['4', 'Alice', 'Jones', '21', 'Female', 'Chemistry', '3.6']\n",
      "['5', 'Mike', 'Davis', '23', 'Male', 'Physics', '2.9']\n",
      "['6', 'Susan', 'Williams', '20', 'Female', 'Literature', '3.7']\n",
      "['7', 'Tony', 'Miller', '22', 'Male', 'History', '3.0']\n",
      "['8', 'Linda', 'GarcÃ\\xada', '21', 'Female', 'Psychology', '3.9']\n",
      "['9', 'Kate', 'Rivera', '19', 'Female', 'Business', '3.4']\n",
      "['10', 'Luke', 'Hernandez', '24', 'Male', 'Economics', '2.8']\n",
      "['11', 'Hassan', 'Saeed', '22', 'Male', 'Python Developer', '3.2']\n",
      "['12', 'Noman', 'Zaheer', '25', 'Male', 'Web Developer', '2.9']\n",
      "['13', 'Rehman', 'Ali', '20', 'Male', 'Software Developer', '3.4']\n",
      "[]\n"
     ]
    }
   ],
   "source": [
    "import csv \n",
    "\n",
    "with open('data.csv', 'r') as files:\n",
    "    csv_read = csv.reader(files)\n",
    "\n",
    "    for lines in csv_read:\n",
    "        print(lines)"
   ]
  },
  {
   "cell_type": "code",
   "execution_count": null,
   "metadata": {},
   "outputs": [],
   "source": [
    "# import csv\n",
    "\n",
    "# with open(\"DataFiles/data.csv\", mode='r') as f:\n",
    "#     csv_read = csv.reader(f)\n",
    "\n",
    "#     # Skip lines 3 to 5 (0-indexed: this means skipping rows 2, 3, and 4)\n",
    "#     for _ in range(2):  # Skip the first two lines\n",
    "#         next(csv_read)\n",
    "\n",
    "#     for _ in range(3):  # Skip the next three lines (lines 3, 4, and 5)\n",
    "#         next(csv_read)\n",
    "\n",
    "#     # Now read the remaining rows\n",
    "#     for row in csv_read:\n",
    "#         print(row)\n"
   ]
  },
  {
   "cell_type": "markdown",
   "metadata": {},
   "source": [
    "### Writing in CSV\n",
    "- We use csv.writer()"
   ]
  },
  {
   "cell_type": "code",
   "execution_count": 18,
   "metadata": {},
   "outputs": [],
   "source": [
    "import csv\n",
    "\n",
    "\n",
    "# StudentID,FirstName,LastName,Age,Gender,Major,GPA\n",
    "\n",
    "\n",
    "data = [14, \"Bilal\", \"Subhani\",22, \"Male\", \"Python Developer\", 3.2], [15, \"Noman\", \"Zaheer\",25, \"Male\", \"Web Developer\", 2.9], [16, \"Rehman\", \"Ali\",20, \"Male\", \"Software Developer\", 3.4]\n",
    "\n",
    "with open(\"data.csv\", mode = 'a', newline='') as file:\n",
    "    csv_write = csv.writer(file)\n",
    "    csv_write.writerows(data)"
   ]
  },
  {
   "cell_type": "code",
   "execution_count": 20,
   "metadata": {},
   "outputs": [],
   "source": [
    "import csv\n",
    "\n",
    "with open('data.csv') as read_file:\n",
    "    csv_reader = csv.reader(read_file)\n",
    "\n",
    "    with open('data2.csv', 'w') as new_file:\n",
    "        csv_write = csv.writer(new_file, delimiter='\\t')\n",
    "\n",
    "        for line in csv_reader:\n",
    "            csv_write.writerow(line)\n",
    "\n"
   ]
  },
  {
   "cell_type": "code",
   "execution_count": 22,
   "metadata": {},
   "outputs": [
    {
     "name": "stdout",
     "output_type": "stream",
     "text": [
      "['StudentID', 'FirstName', 'LastName', 'Age', 'Gender', 'Major', 'GPA']\n",
      "[]\n",
      "['1', 'John', 'Doe', '20', 'Male', 'Computer Science', '3.5']\n",
      "[]\n",
      "['2', 'Jane', 'Smith', '22', 'Female', 'Biology', '3.8']\n",
      "[]\n",
      "['3', 'Bob', 'Brown', '19', 'Male', 'Mathematics', '3.2']\n",
      "[]\n",
      "['4', 'Alice', 'Jones', '21', 'Female', 'Chemistry', '3.6']\n",
      "[]\n",
      "['5', 'Mike', 'Davis', '23', 'Male', 'Physics', '2.9']\n",
      "[]\n",
      "['6', 'Susan', 'Williams', '20', 'Female', 'Literature', '3.7']\n",
      "[]\n",
      "['7', 'Tony', 'Miller', '22', 'Male', 'History', '3.0']\n",
      "[]\n",
      "['8', 'Linda', 'GarcÃ\\xada', '21', 'Female', 'Psychology', '3.9']\n",
      "[]\n",
      "['9', 'Kate', 'Rivera', '19', 'Female', 'Business', '3.4']\n",
      "[]\n",
      "['10', 'Luke', 'Hernandez', '24', 'Male', 'Economics', '2.8']\n",
      "[]\n",
      "['11', 'Hassan', 'Saeed', '22', 'Male', 'Python Developer', '3.2']\n",
      "[]\n",
      "['12', 'Noman', 'Zaheer', '25', 'Male', 'Web Developer', '2.9']\n",
      "[]\n",
      "['13', 'Rehman', 'Ali', '20', 'Male', 'Software Developer', '3.4']\n",
      "[]\n",
      "[]\n",
      "[]\n",
      "['14', 'Bilal', 'Subhani', '22', 'Male', 'Python Developer', '3.2']\n",
      "[]\n",
      "['15', 'Noman', 'Zaheer', '25', 'Male', 'Web Developer', '2.9']\n",
      "[]\n",
      "['16', 'Rehman', 'Ali', '20', 'Male', 'Software Developer', '3.4']\n",
      "[]\n"
     ]
    }
   ],
   "source": [
    "import csv\n",
    "\n",
    "with open(\"data2.csv\", 'r') as csv_file:\n",
    "    csv_reader = csv.reader(csv_file, delimiter=\"\\t\")\n",
    "\n",
    "    for line in csv_reader:\n",
    "        print(line)"
   ]
  },
  {
   "cell_type": "markdown",
   "metadata": {},
   "source": [
    "### Dictionary Reader and Dictionary Writer"
   ]
  },
  {
   "cell_type": "code",
   "execution_count": 23,
   "metadata": {},
   "outputs": [
    {
     "name": "stdout",
     "output_type": "stream",
     "text": [
      "{'StudentID': '1', 'FirstName': 'John', 'LastName': 'Doe', 'Age': '20', 'Gender': 'Male', 'Major': 'Computer Science', 'GPA': '3.5'}\n",
      "{'StudentID': '2', 'FirstName': 'Jane', 'LastName': 'Smith', 'Age': '22', 'Gender': 'Female', 'Major': 'Biology', 'GPA': '3.8'}\n",
      "{'StudentID': '3', 'FirstName': 'Bob', 'LastName': 'Brown', 'Age': '19', 'Gender': 'Male', 'Major': 'Mathematics', 'GPA': '3.2'}\n",
      "{'StudentID': '4', 'FirstName': 'Alice', 'LastName': 'Jones', 'Age': '21', 'Gender': 'Female', 'Major': 'Chemistry', 'GPA': '3.6'}\n",
      "{'StudentID': '5', 'FirstName': 'Mike', 'LastName': 'Davis', 'Age': '23', 'Gender': 'Male', 'Major': 'Physics', 'GPA': '2.9'}\n",
      "{'StudentID': '6', 'FirstName': 'Susan', 'LastName': 'Williams', 'Age': '20', 'Gender': 'Female', 'Major': 'Literature', 'GPA': '3.7'}\n",
      "{'StudentID': '7', 'FirstName': 'Tony', 'LastName': 'Miller', 'Age': '22', 'Gender': 'Male', 'Major': 'History', 'GPA': '3.0'}\n",
      "{'StudentID': '8', 'FirstName': 'Linda', 'LastName': 'GarcÃ\\xada', 'Age': '21', 'Gender': 'Female', 'Major': 'Psychology', 'GPA': '3.9'}\n",
      "{'StudentID': '9', 'FirstName': 'Kate', 'LastName': 'Rivera', 'Age': '19', 'Gender': 'Female', 'Major': 'Business', 'GPA': '3.4'}\n",
      "{'StudentID': '10', 'FirstName': 'Luke', 'LastName': 'Hernandez', 'Age': '24', 'Gender': 'Male', 'Major': 'Economics', 'GPA': '2.8'}\n",
      "{'StudentID': '11', 'FirstName': 'Hassan', 'LastName': 'Saeed', 'Age': '22', 'Gender': 'Male', 'Major': 'Python Developer', 'GPA': '3.2'}\n",
      "{'StudentID': '12', 'FirstName': 'Noman', 'LastName': 'Zaheer', 'Age': '25', 'Gender': 'Male', 'Major': 'Web Developer', 'GPA': '2.9'}\n",
      "{'StudentID': '13', 'FirstName': 'Rehman', 'LastName': 'Ali', 'Age': '20', 'Gender': 'Male', 'Major': 'Software Developer', 'GPA': '3.4'}\n",
      "{'StudentID': '14', 'FirstName': 'Bilal', 'LastName': 'Subhani', 'Age': '22', 'Gender': 'Male', 'Major': 'Python Developer', 'GPA': '3.2'}\n",
      "{'StudentID': '15', 'FirstName': 'Noman', 'LastName': 'Zaheer', 'Age': '25', 'Gender': 'Male', 'Major': 'Web Developer', 'GPA': '2.9'}\n",
      "{'StudentID': '16', 'FirstName': 'Rehman', 'LastName': 'Ali', 'Age': '20', 'Gender': 'Male', 'Major': 'Software Developer', 'GPA': '3.4'}\n"
     ]
    }
   ],
   "source": [
    "import csv\n",
    "\n",
    "with open('data.csv', 'r') as csv_file:\n",
    "    csv_read = csv.DictReader(csv_file)\n",
    "\n",
    "    for dict_row in csv_read:\n",
    "        # print(dict_row)\n",
    "        # print(dict_row['Gender'])\n",
    "        # print(dict_row['Age'])\n",
    "        print(dict_row)"
   ]
  },
  {
   "cell_type": "markdown",
   "metadata": {},
   "source": [
    "### Write using DictWriter"
   ]
  },
  {
   "cell_type": "code",
   "execution_count": null,
   "metadata": {},
   "outputs": [
    {
     "data": {
      "text/plain": [
       "Traceback (most recent call last):\n",
       "  File \"c:\\Users\\Saad Nauman\\.vscode\\extensions\\ms-python.python-2024.22.1-win32-x64\\python_files\\python_server.py\", line 133, in exec_user_input\n",
       "    retval = callable_(user_input, user_globals)\n",
       "  File \"<string>\", line 13, in <module>\n",
       "KeyError: ('Age', 'Gender', 'Major', 'GPA')\n",
       "\n"
      ]
     },
     "metadata": {},
     "output_type": "display_data"
    }
   ],
   "source": [
    "import csv\n",
    "\n",
    "# Read from the original CSV file\n",
    "with open(\"DataFiles/data.csv\", 'r') as read_file:\n",
    "    csv_reader = csv.DictReader(read_file)\n",
    "\n",
    "    # Prepare to write to a new CSV file\n",
    "    with open(\"DataFiles/dict_data.csv\", 'w', newline='') as write_new_file:\n",
    "        # Specify the field names for the new file\n",
    "        field_names = ['FirstName', 'LastName', 'Age']\n",
    "        csv_write = csv.DictWriter(write_new_file, fieldnames=field_names, delimiter='\\t')\n",
    "\n",
    "        # Write the header\n",
    "        csv_write.writeheader()\n",
    "\n",
    "        # Iterate through each row in the original CSV\n",
    "        for row in csv_reader:\n",
    "            # Delete unwanted keys\n",
    "            # row.pop('Age', None)      # Use pop() to avoid KeyError if key doesn't exist\n",
    "            row.pop('Gender', None)\n",
    "            row.pop('Major', None)\n",
    "            row.pop('GPA', None)\n",
    "\n",
    "            # Ensure that only relevant fields are written\n",
    "            filtered_row = {key: row[key] for key in field_names if key in row}\n",
    "            csv_write.writerow(filtered_row)\n"
   ]
  },
  {
   "cell_type": "code",
   "execution_count": null,
   "metadata": {},
   "outputs": [
    {
     "data": {
      "text/plain": [
       "{'FirstName': 'John', 'LastName': 'Doe', 'Age': '20'}\n",
       "{'FirstName': 'Jane', 'LastName': 'Smith', 'Age': '22'}\n",
       "{'FirstName': 'Bob', 'LastName': 'Brown', 'Age': '19'}\n",
       "{'FirstName': 'Alice', 'LastName': 'Jones', 'Age': '21'}\n",
       "{'FirstName': 'Mike', 'LastName': 'Davis', 'Age': '23'}\n",
       "{'FirstName': 'Susan', 'LastName': 'Williams', 'Age': '20'}\n",
       "{'FirstName': 'Tony', 'LastName': 'Miller', 'Age': '22'}\n",
       "{'FirstName': 'Linda', 'LastName': 'GarcÃ\\xada', 'Age': '21'}\n",
       "{'FirstName': 'Kate', 'LastName': 'Rivera', 'Age': '19'}\n",
       "{'FirstName': 'Luke', 'LastName': 'Hernandez', 'Age': '24'}\n",
       "{'FirstName': 'Hassan', 'LastName': 'Saeed', 'Age': '22'}\n",
       "{'FirstName': 'Noman', 'LastName': 'Zaheer', 'Age': '25'}\n",
       "{'FirstName': 'Rehman', 'LastName': 'Ali', 'Age': '20'}\n"
      ]
     },
     "metadata": {},
     "output_type": "display_data"
    }
   ],
   "source": [
    "import csv\n",
    "\n",
    "with open(\"DataFiles/dict_data.csv\", 'r') as read_file:\n",
    "    csv_reader = csv.DictReader(read_file, delimiter=\"\\t\")\n",
    "\n",
    "    for line in csv_reader:\n",
    "        print(line)"
   ]
  },
  {
   "cell_type": "markdown",
   "metadata": {},
   "source": [
    "### Dialects in CSV"
   ]
  },
  {
   "cell_type": "code",
   "execution_count": 25,
   "metadata": {},
   "outputs": [
    {
     "name": "stdout",
     "output_type": "stream",
     "text": [
      "['FirstName\\tLastName\\tAge']\n",
      "['John\\tDoe\\t20']\n",
      "['Jane\\tSmith\\t22']\n",
      "['Bob\\tBrown\\t19']\n",
      "['Alice\\tJones\\t21']\n",
      "['Mike\\tDavis\\t23']\n",
      "['Susan\\tWilliams\\t20']\n",
      "['Tony\\tMiller\\t22']\n",
      "['Linda\\tGarcÃ\\xada\\t21']\n",
      "['Kate\\tRivera\\t19']\n",
      "['Luke\\tHernandez\\t24']\n",
      "['Hassan\\tSaeed\\t22']\n",
      "['Noman\\tZaheer\\t25']\n",
      "['Rehman\\tAli\\t20']\n"
     ]
    }
   ],
   "source": [
    "import csv\n",
    "\n",
    "csv.register_dialect('custom', delimiter=';', quotechar='\"', quoting=csv.QUOTE_MINIMAL)\n",
    "\n",
    "with open('dict_data.csv', 'r') as file:\n",
    "    csv_reader = csv.reader(file, dialect='custom')\n",
    "    for row in csv_reader:\n",
    "        print(row)\n"
   ]
  },
  {
   "cell_type": "markdown",
   "metadata": {},
   "source": [
    "### How to Manipulate and Analyze Data using CSV Files?\n",
    "Data manipulation and analysis are important skills to have for any data analyst or scientist. \n",
    "\n",
    "* Filtering Data: Filtering data involves selecting rows that meet certain criteria. For example, we might want to filter rows where the age of the employees is greater than 25.\n",
    "* Adding a New Column: Adding a new column involves creating additional data based on the existing columns or with new data."
   ]
  },
  {
   "cell_type": "code",
   "execution_count": 38,
   "metadata": {},
   "outputs": [
    {
     "name": "stdout",
     "output_type": "stream",
     "text": [
      "{'StudentID': '1', 'FirstName': 'John', 'LastName': 'Doe', 'Age': '20', 'Gender': 'Male', 'Major': 'Computer Science', 'GPA': '3.5'}\n",
      "{'StudentID': '2', 'FirstName': 'Jane', 'LastName': 'Smith', 'Age': '26', 'Gender': 'Female', 'Major': 'Biology', 'GPA': '3.8'}\n",
      "{'StudentID': '3', 'FirstName': 'Bob', 'LastName': 'Brown', 'Age': '19', 'Gender': 'Male', 'Major': 'Mathematics', 'GPA': '3.2'}\n",
      "{'StudentID': '4', 'FirstName': 'Alice', 'LastName': 'Jones', 'Age': '32', 'Gender': 'Female', 'Major': 'Chemistry', 'GPA': '3.6'}\n",
      "{'StudentID': '6', 'FirstName': 'Susan', 'LastName': 'Williams', 'Age': '20', 'Gender': 'Female', 'Major': 'Literature', 'GPA': '3.7'}\n",
      "{'StudentID': '8', 'FirstName': 'Linda', 'LastName': 'GarcÃ\\xada', 'Age': '30', 'Gender': 'Female', 'Major': 'Psychology', 'GPA': '3.9'}\n",
      "{'StudentID': '9', 'FirstName': 'Kate', 'LastName': 'Rivera', 'Age': '19', 'Gender': 'Female', 'Major': 'Business', 'GPA': '3.4'}\n",
      "{'StudentID': '11', 'FirstName': 'Hassan', 'LastName': 'Saeed', 'Age': '22', 'Gender': 'Male', 'Major': 'Python Developer', 'GPA': '3.2'}\n",
      "{'StudentID': '13', 'FirstName': 'Rehman', 'LastName': 'Ali', 'Age': '27', 'Gender': 'Male', 'Major': 'Software Developer', 'GPA': '3.4'}\n",
      "{'StudentID': '14', 'FirstName': 'Bilal', 'LastName': 'Subhani', 'Age': '22', 'Gender': 'Male', 'Major': 'Python Developer', 'GPA': '3.2'}\n",
      "{'StudentID': '16', 'FirstName': 'Rehman', 'LastName': 'Ali', 'Age': '20', 'Gender': 'Male', 'Major': 'Software Developer', 'GPA': '3.4'}\n"
     ]
    }
   ],
   "source": [
    "import csv\n",
    "\n",
    "try:\n",
    "\n",
    "    with open(\"data2.csv\", mode='r') as file:\n",
    "        \n",
    "        data = csv.DictReader(file, delimiter='\\t')\n",
    "\n",
    "        # Filtered rows where age is greater than 25\n",
    "        filtered_data = [row for row in data if float(row['GPA']) > 3.0]\n",
    "\n",
    "        # Display the filtered data \n",
    "        for row in filtered_data:\n",
    "            print(row)\n",
    "            \n",
    "\n",
    "except Exception as e:\n",
    "    print(\"Error: \", e)"
   ]
  },
  {
   "cell_type": "markdown",
   "metadata": {},
   "source": [
    "#### Adding a new Column"
   ]
  },
  {
   "cell_type": "code",
   "execution_count": 49,
   "metadata": {},
   "outputs": [
    {
     "name": "stdout",
     "output_type": "stream",
     "text": [
      "New Column added Successfully\n"
     ]
    }
   ],
   "source": [
    "input_file = 'data2.csv'\n",
    "output_file = 'data2_updated.csv'\n",
    "\n",
    "\n",
    "new_column_values = [\n",
    "    '2023', '2024','2023', '2024','2023', '2024','2023', '2024','2023', '2024','2023', '2024','2023', '2024','2023', '2024'\n",
    "]\n",
    "\n",
    "\n",
    "try:\n",
    "    # Step: 1: Read the existing csv file\n",
    "    with open(\"data2.csv\", 'r', newline='') as ex_file:\n",
    "        reader = csv.reader(ex_file,)\n",
    "\n",
    "        # Read the header\n",
    "        header = next(reader)\n",
    "\n",
    "        # Step 2: Add a new column name to the header\n",
    "        header.append(\"Gradutaion_Year\")\n",
    "\n",
    "        # Prepare to write updated rows\n",
    "\n",
    "        updated_rows = [header]\n",
    "\n",
    "        # step 3: Iterate through row and append new column values\n",
    "        for i, row in enumerate(reader):\n",
    "            if i < len(new_column_values):\n",
    "                row.append(new_column_values[i])\n",
    "            else:\n",
    "                row.append('')\n",
    "            updated_rows.append(row)\n",
    "\n",
    "\n",
    "        # Step 4: Write the updated rows to new csv file\n",
    "        with open(output_file, mode='w', newline='') as new_file:\n",
    "            writer = csv.writer(new_file)\n",
    "            writer.writerows(updated_rows)\n",
    "        \n",
    "        print(\"New Column added Successfully\")\n",
    "\n",
    "except Exception as e:\n",
    "    print(\"Error: \", e)\n"
   ]
  }
 ],
 "metadata": {
  "kernelspec": {
   "display_name": "Python 3",
   "language": "python",
   "name": "python3"
  },
  "language_info": {
   "codemirror_mode": {
    "name": "ipython",
    "version": 3
   },
   "file_extension": ".py",
   "mimetype": "text/x-python",
   "name": "python",
   "nbconvert_exporter": "python",
   "pygments_lexer": "ipython3",
   "version": "3.10.11"
  }
 },
 "nbformat": 4,
 "nbformat_minor": 2
}
