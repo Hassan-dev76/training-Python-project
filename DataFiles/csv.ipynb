{
 "cells": [
  {
   "cell_type": "markdown",
   "metadata": {},
   "source": [
    "### Reading CSV Files\n",
    "- We use csv.reader()"
   ]
  },
  {
   "cell_type": "code",
   "execution_count": null,
   "metadata": {},
   "outputs": [
    {
     "data": {
      "text/plain": [
       "['1', 'John', 'Doe', '20', 'Male', 'Computer Science', '3.5']\n",
       "['2', 'Jane', 'Smith', '22', 'Female', 'Biology', '3.8']\n",
       "['3', 'Bob', 'Brown', '19', 'Male', 'Mathematics', '3.2']\n",
       "['4', 'Alice', 'Jones', '21', 'Female', 'Chemistry', '3.6']\n",
       "['5', 'Mike', 'Davis', '23', 'Male', 'Physics', '2.9']\n",
       "['6', 'Susan', 'Williams', '20', 'Female', 'Literature', '3.7']\n",
       "['7', 'Tony', 'Miller', '22', 'Male', 'History', '3.0']\n",
       "['8', 'Linda', 'GarcÃ\\xada', '21', 'Female', 'Psychology', '3.9']\n",
       "['9', 'Kate', 'Rivera', '19', 'Female', 'Business', '3.4']\n",
       "['10', 'Luke', 'Hernandez', '24', 'Male', 'Economics', '2.8']\n"
      ]
     },
     "metadata": {},
     "output_type": "display_data"
    }
   ],
   "source": [
    "import csv\n",
    "\n",
    "with open('DataFiles/data.csv', 'r') as file:\n",
    "    csv_read = csv.reader(file)\n",
    "    header = next(csv_read) # user for skip header row\n",
    "    for row in csv_read:\n",
    "        print(row)    # each row is a list of value"
   ]
  },
  {
   "cell_type": "code",
   "execution_count": null,
   "metadata": {},
   "outputs": [
    {
     "data": {
      "text/plain": [
       "['StudentID', 'FirstName', 'LastName', 'Age', 'Gender', 'Major', 'GPA']\n",
       "['1', 'John', 'Doe', '20', 'Male', 'Computer Science', '3.5']\n",
       "['2', 'Jane', 'Smith', '22', 'Female', 'Biology', '3.8']\n",
       "['3', 'Bob', 'Brown', '19', 'Male', 'Mathematics', '3.2']\n",
       "['4', 'Alice', 'Jones', '21', 'Female', 'Chemistry', '3.6']\n",
       "['5', 'Mike', 'Davis', '23', 'Male', 'Physics', '2.9']\n",
       "['6', 'Susan', 'Williams', '20', 'Female', 'Literature', '3.7']\n",
       "['7', 'Tony', 'Miller', '22', 'Male', 'History', '3.0']\n",
       "['8', 'Linda', 'GarcÃ\\xada', '21', 'Female', 'Psychology', '3.9']\n",
       "['9', 'Kate', 'Rivera', '19', 'Female', 'Business', '3.4']\n",
       "['10', 'Luke', 'Hernandez', '24', 'Male', 'Economics', '2.8']\n"
      ]
     },
     "metadata": {},
     "output_type": "display_data"
    }
   ],
   "source": [
    "import csv \n",
    "with open(\"DataFiles/data.csv\", mode = 'r') as f:\n",
    "    csv_read = csv.reader(f)\n",
    "\n",
    "    all_rows = list(csv_read)\n",
    "    # print(all_rows)\n",
    "    \n",
    "    \n",
    "    \n",
    "    # skip lines using loop\n",
    "    \n",
    "    # for row in all_rows[:-3]:\n",
    "    #     print(row)\n",
    "\n",
    "\n",
    "    for row in all_rows:\n",
    "        print(row)\n"
   ]
  },
  {
   "cell_type": "code",
   "execution_count": null,
   "metadata": {},
   "outputs": [
    {
     "data": {
      "text/plain": [
       "['StudentID', 'FirstName', 'LastName', 'Age', 'Gender', 'Major', 'GPA']\n",
       "['1', 'John', 'Doe', '20', 'Male', 'Computer Science', '3.5']\n",
       "['2', 'Jane', 'Smith', '22', 'Female', 'Biology', '3.8']\n",
       "['3', 'Bob', 'Brown', '19', 'Male', 'Mathematics', '3.2']\n",
       "['4', 'Alice', 'Jones', '21', 'Female', 'Chemistry', '3.6']\n",
       "['5', 'Mike', 'Davis', '23', 'Male', 'Physics', '2.9']\n",
       "['6', 'Susan', 'Williams', '20', 'Female', 'Literature', '3.7']\n",
       "['7', 'Tony', 'Miller', '22', 'Male', 'History', '3.0']\n",
       "['8', 'Linda', 'GarcÃ\\xada', '21', 'Female', 'Psychology', '3.9']\n",
       "['9', 'Kate', 'Rivera', '19', 'Female', 'Business', '3.4']\n",
       "['10', 'Luke', 'Hernandez', '24', 'Male', 'Economics', '2.8']\n",
       "['11', 'Hassan', 'Saeed', '22', 'Male', 'Python Developer', '3.2']\n",
       "['12', 'Noman', 'Zaheer', '25', 'Male', 'Web Developer', '2.9']\n",
       "['13', 'Rehman', 'Ali', '20', 'Male', 'Software Developer', '3.4']\n",
       "[]\n"
      ]
     },
     "metadata": {},
     "output_type": "display_data"
    }
   ],
   "source": [
    "import csv \n",
    "\n",
    "with open('DataFiles/data.csv', 'r') as files:\n",
    "    csv_read = csv.reader(files)\n",
    "\n",
    "    for lines in csv_read:\n",
    "        print(lines)"
   ]
  },
  {
   "cell_type": "code",
   "execution_count": null,
   "metadata": {},
   "outputs": [],
   "source": [
    "# import csv\n",
    "\n",
    "# with open(\"DataFiles/data.csv\", mode='r') as f:\n",
    "#     csv_read = csv.reader(f)\n",
    "\n",
    "#     # Skip lines 3 to 5 (0-indexed: this means skipping rows 2, 3, and 4)\n",
    "#     for _ in range(2):  # Skip the first two lines\n",
    "#         next(csv_read)\n",
    "\n",
    "#     for _ in range(3):  # Skip the next three lines (lines 3, 4, and 5)\n",
    "#         next(csv_read)\n",
    "\n",
    "#     # Now read the remaining rows\n",
    "#     for row in csv_read:\n",
    "#         print(row)\n"
   ]
  },
  {
   "cell_type": "markdown",
   "metadata": {},
   "source": [
    "### Writing in CSV\n",
    "- We use csv.writer()"
   ]
  },
  {
   "cell_type": "code",
   "execution_count": null,
   "metadata": {},
   "outputs": [],
   "source": [
    "import csv\n",
    "\n",
    "\n",
    "# StudentID,FirstName,LastName,Age,Gender,Major,GPA\n",
    "\n",
    "\n",
    "data = [11, \"Hassan\", \"Saeed\",22, \"Male\", \"Python Developer\", 3.2], [12, \"Noman\", \"Zaheer\",25, \"Male\", \"Web Developer\", 2.9], [13, \"Rehman\", \"Ali\",20, \"Male\", \"Software Developer\", 3.4]\n",
    "\n",
    "with open(\"DataFiles/data.csv\", mode = 'a', newline='') as file:\n",
    "    csv_write = csv.writer(file)\n",
    "    csv_write.writerows(data)"
   ]
  },
  {
   "cell_type": "code",
   "execution_count": null,
   "metadata": {},
   "outputs": [
    {
     "data": {
      "text/plain": [
       "Traceback (most recent call last):\n",
       "  File \"c:\\Users\\Saad Nauman\\.vscode\\extensions\\ms-python.python-2024.22.1-win32-x64\\python_files\\python_server.py\", line 133, in exec_user_input\n",
       "    retval = callable_(user_input, user_globals)\n",
       "  File \"<string>\", line 10, in <module>\n",
       "ValueError: I/O operation on closed file.\n",
       "\n"
      ]
     },
     "metadata": {},
     "output_type": "display_data"
    }
   ],
   "source": [
    "import csv\n",
    "\n",
    "with open('DataFiles/data.csv') as read_file:\n",
    "    csv_reader = csv.reader(read_file)\n",
    "\n",
    "    with open('DataFiles/data2.csv', 'w') as new_file:\n",
    "        csv_write = csv.writer(new_file, delimiter='\\t')\n",
    "\n",
    "        for line in csv_reader:\n",
    "            csv_write.writerow(line)\n",
    "\n"
   ]
  },
  {
   "cell_type": "code",
   "execution_count": null,
   "metadata": {},
   "outputs": [
    {
     "data": {
      "text/plain": [
       "['StudentID', 'FirstName', 'LastName', 'Age', 'Gender', 'Major', 'GPA']\n",
       "[]\n",
       "['1', 'John', 'Doe', '20', 'Male', 'Computer Science', '3.5']\n",
       "[]\n",
       "['2', 'Jane', 'Smith', '22', 'Female', 'Biology', '3.8']\n",
       "[]\n",
       "['3', 'Bob', 'Brown', '19', 'Male', 'Mathematics', '3.2']\n",
       "[]\n",
       "['4', 'Alice', 'Jones', '21', 'Female', 'Chemistry', '3.6']\n",
       "[]\n",
       "['5', 'Mike', 'Davis', '23', 'Male', 'Physics', '2.9']\n",
       "[]\n",
       "['6', 'Susan', 'Williams', '20', 'Female', 'Literature', '3.7']\n",
       "[]\n",
       "['7', 'Tony', 'Miller', '22', 'Male', 'History', '3.0']\n",
       "[]\n",
       "['8', 'Linda', 'GarcÃ\\xada', '21', 'Female', 'Psychology', '3.9']\n",
       "[]\n",
       "['9', 'Kate', 'Rivera', '19', 'Female', 'Business', '3.4']\n",
       "[]\n",
       "['10', 'Luke', 'Hernandez', '24', 'Male', 'Economics', '2.8']\n",
       "[]\n",
       "['11', 'Hassan', 'Saeed', '22', 'Male', 'Python Developer', '3.2']\n",
       "[]\n",
       "['12', 'Noman', 'Zaheer', '25', 'Male', 'Web Developer', '2.9']\n",
       "[]\n",
       "['13', 'Rehman', 'Ali', '20', 'Male', 'Software Developer', '3.4']\n",
       "[]\n",
       "[]\n",
       "[]\n"
      ]
     },
     "metadata": {},
     "output_type": "display_data"
    }
   ],
   "source": [
    "import csv\n",
    "\n",
    "with open(\"DataFiles/data2.csv\", 'r') as csv_file:\n",
    "    csv_reader = csv.reader(csv_file, delimiter=\"\\t\")\n",
    "\n",
    "    for line in csv_reader:\n",
    "        print(line)"
   ]
  },
  {
   "cell_type": "markdown",
   "metadata": {},
   "source": [
    "### Dictionary Reader and Dictionary Writer"
   ]
  },
  {
   "cell_type": "code",
   "execution_count": null,
   "metadata": {},
   "outputs": [
    {
     "data": {
      "text/plain": [
       "{'StudentID': '1', 'FirstName': 'John', 'LastName': 'Doe', 'Age': '20', 'Gender': 'Male', 'Major': 'Computer Science', 'GPA': '3.5'}\n",
       "{'StudentID': '2', 'FirstName': 'Jane', 'LastName': 'Smith', 'Age': '22', 'Gender': 'Female', 'Major': 'Biology', 'GPA': '3.8'}\n",
       "{'StudentID': '3', 'FirstName': 'Bob', 'LastName': 'Brown', 'Age': '19', 'Gender': 'Male', 'Major': 'Mathematics', 'GPA': '3.2'}\n",
       "{'StudentID': '4', 'FirstName': 'Alice', 'LastName': 'Jones', 'Age': '21', 'Gender': 'Female', 'Major': 'Chemistry', 'GPA': '3.6'}\n",
       "{'StudentID': '5', 'FirstName': 'Mike', 'LastName': 'Davis', 'Age': '23', 'Gender': 'Male', 'Major': 'Physics', 'GPA': '2.9'}\n",
       "{'StudentID': '6', 'FirstName': 'Susan', 'LastName': 'Williams', 'Age': '20', 'Gender': 'Female', 'Major': 'Literature', 'GPA': '3.7'}\n",
       "{'StudentID': '7', 'FirstName': 'Tony', 'LastName': 'Miller', 'Age': '22', 'Gender': 'Male', 'Major': 'History', 'GPA': '3.0'}\n",
       "{'StudentID': '8', 'FirstName': 'Linda', 'LastName': 'GarcÃ\\xada', 'Age': '21', 'Gender': 'Female', 'Major': 'Psychology', 'GPA': '3.9'}\n",
       "{'StudentID': '9', 'FirstName': 'Kate', 'LastName': 'Rivera', 'Age': '19', 'Gender': 'Female', 'Major': 'Business', 'GPA': '3.4'}\n",
       "{'StudentID': '10', 'FirstName': 'Luke', 'LastName': 'Hernandez', 'Age': '24', 'Gender': 'Male', 'Major': 'Economics', 'GPA': '2.8'}\n",
       "{'StudentID': '11', 'FirstName': 'Hassan', 'LastName': 'Saeed', 'Age': '22', 'Gender': 'Male', 'Major': 'Python Developer', 'GPA': '3.2'}\n",
       "{'StudentID': '12', 'FirstName': 'Noman', 'LastName': 'Zaheer', 'Age': '25', 'Gender': 'Male', 'Major': 'Web Developer', 'GPA': '2.9'}\n",
       "{'StudentID': '13', 'FirstName': 'Rehman', 'LastName': 'Ali', 'Age': '20', 'Gender': 'Male', 'Major': 'Software Developer', 'GPA': '3.4'}\n"
      ]
     },
     "metadata": {},
     "output_type": "display_data"
    }
   ],
   "source": [
    "import csv\n",
    "\n",
    "with open('DataFiles/data.csv', 'r') as csv_file:\n",
    "    csv_read = csv.DictReader(csv_file)\n",
    "\n",
    "    for dict_row in csv_read:\n",
    "        # print(dict_row)\n",
    "        # print(dict_row['Gender'])\n",
    "        # print(dict_row['Age'])\n",
    "        print(dict_row)"
   ]
  },
  {
   "cell_type": "markdown",
   "metadata": {},
   "source": [
    "### Write using DictWriter"
   ]
  },
  {
   "cell_type": "code",
   "execution_count": null,
   "metadata": {},
   "outputs": [
    {
     "data": {
      "text/plain": [
       "Traceback (most recent call last):\n",
       "  File \"c:\\Users\\Saad Nauman\\.vscode\\extensions\\ms-python.python-2024.22.1-win32-x64\\python_files\\python_server.py\", line 133, in exec_user_input\n",
       "    retval = callable_(user_input, user_globals)\n",
       "  File \"<string>\", line 13, in <module>\n",
       "KeyError: ('Age', 'Gender', 'Major', 'GPA')\n",
       "\n"
      ]
     },
     "metadata": {},
     "output_type": "display_data"
    }
   ],
   "source": [
    "import csv\n",
    "\n",
    "# Read from the original CSV file\n",
    "with open(\"DataFiles/data.csv\", 'r') as read_file:\n",
    "    csv_reader = csv.DictReader(read_file)\n",
    "\n",
    "    # Prepare to write to a new CSV file\n",
    "    with open(\"DataFiles/dict_data.csv\", 'w', newline='') as write_new_file:\n",
    "        # Specify the field names for the new file\n",
    "        field_names = ['FirstName', 'LastName', 'Age']\n",
    "        csv_write = csv.DictWriter(write_new_file, fieldnames=field_names, delimiter='\\t')\n",
    "\n",
    "        # Write the header\n",
    "        csv_write.writeheader()\n",
    "\n",
    "        # Iterate through each row in the original CSV\n",
    "        for row in csv_reader:\n",
    "            # Delete unwanted keys\n",
    "            # row.pop('Age', None)      # Use pop() to avoid KeyError if key doesn't exist\n",
    "            row.pop('Gender', None)\n",
    "            row.pop('Major', None)\n",
    "            row.pop('GPA', None)\n",
    "\n",
    "            # Ensure that only relevant fields are written\n",
    "            filtered_row = {key: row[key] for key in field_names if key in row}\n",
    "            csv_write.writerow(filtered_row)\n"
   ]
  },
  {
   "cell_type": "code",
   "execution_count": null,
   "metadata": {},
   "outputs": [
    {
     "data": {
      "text/plain": [
       "{'FirstName': 'John', 'LastName': 'Doe', 'Age': '20'}\n",
       "{'FirstName': 'Jane', 'LastName': 'Smith', 'Age': '22'}\n",
       "{'FirstName': 'Bob', 'LastName': 'Brown', 'Age': '19'}\n",
       "{'FirstName': 'Alice', 'LastName': 'Jones', 'Age': '21'}\n",
       "{'FirstName': 'Mike', 'LastName': 'Davis', 'Age': '23'}\n",
       "{'FirstName': 'Susan', 'LastName': 'Williams', 'Age': '20'}\n",
       "{'FirstName': 'Tony', 'LastName': 'Miller', 'Age': '22'}\n",
       "{'FirstName': 'Linda', 'LastName': 'GarcÃ\\xada', 'Age': '21'}\n",
       "{'FirstName': 'Kate', 'LastName': 'Rivera', 'Age': '19'}\n",
       "{'FirstName': 'Luke', 'LastName': 'Hernandez', 'Age': '24'}\n",
       "{'FirstName': 'Hassan', 'LastName': 'Saeed', 'Age': '22'}\n",
       "{'FirstName': 'Noman', 'LastName': 'Zaheer', 'Age': '25'}\n",
       "{'FirstName': 'Rehman', 'LastName': 'Ali', 'Age': '20'}\n"
      ]
     },
     "metadata": {},
     "output_type": "display_data"
    }
   ],
   "source": [
    "import csv\n",
    "\n",
    "with open(\"DataFiles/dict_data.csv\", 'r') as read_file:\n",
    "    csv_reader = csv.DictReader(read_file, delimiter=\"\\t\")\n",
    "\n",
    "    for line in csv_reader:\n",
    "        print(line)"
   ]
  },
  {
   "cell_type": "markdown",
   "metadata": {},
   "source": [
    "### Dialects in CSV"
   ]
  },
  {
   "cell_type": "code",
   "execution_count": null,
   "metadata": {},
   "outputs": [
    {
     "data": {
      "text/plain": [
       "['FirstName\\tLastName\\tAge']\n",
       "['John\\tDoe\\t20']\n",
       "['Jane\\tSmith\\t22']\n",
       "['Bob\\tBrown\\t19']\n",
       "['Alice\\tJones\\t21']\n",
       "['Mike\\tDavis\\t23']\n",
       "['Susan\\tWilliams\\t20']\n",
       "['Tony\\tMiller\\t22']\n",
       "['Linda\\tGarcÃ\\xada\\t21']\n",
       "['Kate\\tRivera\\t19']\n",
       "['Luke\\tHernandez\\t24']\n",
       "['Hassan\\tSaeed\\t22']\n",
       "['Noman\\tZaheer\\t25']\n",
       "['Rehman\\tAli\\t20']\n"
      ]
     },
     "metadata": {},
     "output_type": "display_data"
    }
   ],
   "source": [
    "import csv\n",
    "\n",
    "csv.register_dialect('custom', delimiter=';', quotechar='\"', quoting=csv.QUOTE_MINIMAL)\n",
    "\n",
    "with open('DataFiles/dict_data.csv', 'r') as file:\n",
    "    csv_reader = csv.reader(file, dialect='custom')\n",
    "    for row in csv_reader:\n",
    "        print(row)\n"
   ]
  }
 ],
 "metadata": {
  "language_info": {
   "name": "python"
  }
 },
 "nbformat": 4,
 "nbformat_minor": 2
}
