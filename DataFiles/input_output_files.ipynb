{
 "cells": [
  {
   "cell_type": "code",
   "execution_count": null,
   "metadata": {},
   "outputs": [
    {
     "data": {
      "text/plain": [
       "['Hey Hassan, How are you!\\n', \"Ali, I'm fine. what about you?\\n\", 'I am also fine. \\n', 'Hassan, what was your college yesterday?\\n', 'i was enjoing my yesterday. \\n', 'and i was also playing with hens. \\n', 'Ali, Wow.']\n"
      ]
     },
     "metadata": {},
     "output_type": "display_data"
    }
   ],
   "source": [
    "try:\n",
    "    with open('ReadingDataFiles/myfile.txt', 'r') as file:\n",
    "        # content = file.read()\n",
    "        # print(content)\n",
    "        # read_line = file.readline()\n",
    "        # print(read_line)\n",
    "        read_lines = file.readlines()\n",
    "        print(read_lines)\n",
    "\n",
    "except FileNotFoundError:\n",
    "    print(\"File not found. Creating a new one.\")\n",
    "\n"
   ]
  },
  {
   "cell_type": "code",
   "execution_count": null,
   "metadata": {},
   "outputs": [
    {
     "data": {
      "text/plain": [
       "This is new line\n"
      ]
     },
     "metadata": {},
     "output_type": "display_data"
    }
   ],
   "source": [
    "# write remove the previous contnet and write from the start in a file\n",
    "with open(\"ReadingDataFiles/myfile.txt\", 'w') as f:\n",
    "    f.write(\"This is new line\")\n",
    "    # r = f.read()\n",
    "    # print(r)\n",
    "    f.close()\n",
    "\n",
    "with open(\"ReadingDataFiles/myfile.txt\", 'r') as file:\n",
    "    r = file.read()\n",
    "    print(r)"
   ]
  },
  {
   "cell_type": "code",
   "execution_count": null,
   "metadata": {},
   "outputs": [
    {
     "data": {
      "text/plain": [
       "28\n",
       "Hey Hassan, How are you!\n",
       "Ali, I'm fine. what about you?\n",
       "I am also fine. \n",
       "Hassan, what was your college yesterday?\n",
       "i was enjoing my yesterday. \n",
       "and i was also playing with hens. \n",
       "Ali, Wow.\n",
       "Bilal, hi guys. What's app!\n",
       "Bilal, hi guys. What's app!\n"
      ]
     },
     "metadata": {},
     "output_type": "display_data"
    }
   ],
   "source": [
    "with open(\"ReadingDataFiles/myfile.txt\", 'a') as f:\n",
    "    a = f.write(\"\\nBilal, hi guys. What's app!\")\n",
    "    print(a)\n",
    "\n",
    "\n",
    "with open(\"ReadingDataFiles/myfile.txt\", 'r') as f:\n",
    "    r = f.read()\n",
    "    print(r)"
   ]
  }
 ],
 "metadata": {
  "language_info": {
   "name": "python"
  }
 },
 "nbformat": 4,
 "nbformat_minor": 2
}
